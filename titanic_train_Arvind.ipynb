{
 "cells": [
  {
   "cell_type": "code",
   "execution_count": 1,
   "id": "4e40099e",
   "metadata": {},
   "outputs": [],
   "source": [
    "import pandas as pd\n",
    "import numpy as np\n",
    "import matplotlib.pyplot as plt\n",
    "import seaborn as sns\n",
    "import warnings\n",
    "warnings.filterwarnings('ignore')"
   ]
  },
  {
   "cell_type": "code",
   "execution_count": 67,
   "id": "932c80f3",
   "metadata": {},
   "outputs": [],
   "source": [
    "data = pd.read_csv('https://raw.githubusercontent.com/dsrscientist/dataset1/master/titanic_train.csv')"
   ]
  },
  {
   "cell_type": "code",
   "execution_count": 4,
   "id": "9edfad3f",
   "metadata": {},
   "outputs": [
    {
     "data": {
      "text/html": [
       "<div>\n",
       "<style scoped>\n",
       "    .dataframe tbody tr th:only-of-type {\n",
       "        vertical-align: middle;\n",
       "    }\n",
       "\n",
       "    .dataframe tbody tr th {\n",
       "        vertical-align: top;\n",
       "    }\n",
       "\n",
       "    .dataframe thead th {\n",
       "        text-align: right;\n",
       "    }\n",
       "</style>\n",
       "<table border=\"1\" class=\"dataframe\">\n",
       "  <thead>\n",
       "    <tr style=\"text-align: right;\">\n",
       "      <th></th>\n",
       "      <th>PassengerId</th>\n",
       "      <th>Survived</th>\n",
       "      <th>Pclass</th>\n",
       "      <th>Name</th>\n",
       "      <th>Sex</th>\n",
       "      <th>Age</th>\n",
       "      <th>SibSp</th>\n",
       "      <th>Parch</th>\n",
       "      <th>Ticket</th>\n",
       "      <th>Fare</th>\n",
       "      <th>Cabin</th>\n",
       "      <th>Embarked</th>\n",
       "    </tr>\n",
       "  </thead>\n",
       "  <tbody>\n",
       "    <tr>\n",
       "      <th>0</th>\n",
       "      <td>1</td>\n",
       "      <td>0</td>\n",
       "      <td>3</td>\n",
       "      <td>Braund, Mr. Owen Harris</td>\n",
       "      <td>male</td>\n",
       "      <td>22.0</td>\n",
       "      <td>1</td>\n",
       "      <td>0</td>\n",
       "      <td>A/5 21171</td>\n",
       "      <td>7.2500</td>\n",
       "      <td>NaN</td>\n",
       "      <td>S</td>\n",
       "    </tr>\n",
       "    <tr>\n",
       "      <th>1</th>\n",
       "      <td>2</td>\n",
       "      <td>1</td>\n",
       "      <td>1</td>\n",
       "      <td>Cumings, Mrs. John Bradley (Florence Briggs Th...</td>\n",
       "      <td>female</td>\n",
       "      <td>38.0</td>\n",
       "      <td>1</td>\n",
       "      <td>0</td>\n",
       "      <td>PC 17599</td>\n",
       "      <td>71.2833</td>\n",
       "      <td>C85</td>\n",
       "      <td>C</td>\n",
       "    </tr>\n",
       "    <tr>\n",
       "      <th>2</th>\n",
       "      <td>3</td>\n",
       "      <td>1</td>\n",
       "      <td>3</td>\n",
       "      <td>Heikkinen, Miss. Laina</td>\n",
       "      <td>female</td>\n",
       "      <td>26.0</td>\n",
       "      <td>0</td>\n",
       "      <td>0</td>\n",
       "      <td>STON/O2. 3101282</td>\n",
       "      <td>7.9250</td>\n",
       "      <td>NaN</td>\n",
       "      <td>S</td>\n",
       "    </tr>\n",
       "    <tr>\n",
       "      <th>3</th>\n",
       "      <td>4</td>\n",
       "      <td>1</td>\n",
       "      <td>1</td>\n",
       "      <td>Futrelle, Mrs. Jacques Heath (Lily May Peel)</td>\n",
       "      <td>female</td>\n",
       "      <td>35.0</td>\n",
       "      <td>1</td>\n",
       "      <td>0</td>\n",
       "      <td>113803</td>\n",
       "      <td>53.1000</td>\n",
       "      <td>C123</td>\n",
       "      <td>S</td>\n",
       "    </tr>\n",
       "    <tr>\n",
       "      <th>4</th>\n",
       "      <td>5</td>\n",
       "      <td>0</td>\n",
       "      <td>3</td>\n",
       "      <td>Allen, Mr. William Henry</td>\n",
       "      <td>male</td>\n",
       "      <td>35.0</td>\n",
       "      <td>0</td>\n",
       "      <td>0</td>\n",
       "      <td>373450</td>\n",
       "      <td>8.0500</td>\n",
       "      <td>NaN</td>\n",
       "      <td>S</td>\n",
       "    </tr>\n",
       "  </tbody>\n",
       "</table>\n",
       "</div>"
      ],
      "text/plain": [
       "   PassengerId  Survived  Pclass  \\\n",
       "0            1         0       3   \n",
       "1            2         1       1   \n",
       "2            3         1       3   \n",
       "3            4         1       1   \n",
       "4            5         0       3   \n",
       "\n",
       "                                                Name     Sex   Age  SibSp  \\\n",
       "0                            Braund, Mr. Owen Harris    male  22.0      1   \n",
       "1  Cumings, Mrs. John Bradley (Florence Briggs Th...  female  38.0      1   \n",
       "2                             Heikkinen, Miss. Laina  female  26.0      0   \n",
       "3       Futrelle, Mrs. Jacques Heath (Lily May Peel)  female  35.0      1   \n",
       "4                           Allen, Mr. William Henry    male  35.0      0   \n",
       "\n",
       "   Parch            Ticket     Fare Cabin Embarked  \n",
       "0      0         A/5 21171   7.2500   NaN        S  \n",
       "1      0          PC 17599  71.2833   C85        C  \n",
       "2      0  STON/O2. 3101282   7.9250   NaN        S  \n",
       "3      0            113803  53.1000  C123        S  \n",
       "4      0            373450   8.0500   NaN        S  "
      ]
     },
     "execution_count": 4,
     "metadata": {},
     "output_type": "execute_result"
    }
   ],
   "source": [
    "data.head()"
   ]
  },
  {
   "cell_type": "code",
   "execution_count": 5,
   "id": "74085394",
   "metadata": {},
   "outputs": [
    {
     "data": {
      "text/plain": [
       "(891, 12)"
      ]
     },
     "execution_count": 5,
     "metadata": {},
     "output_type": "execute_result"
    }
   ],
   "source": [
    "data.shape"
   ]
  },
  {
   "cell_type": "markdown",
   "id": "dd875aa0",
   "metadata": {},
   "source": [
    "##### Data size is 891 rows and 12 columns."
   ]
  },
  {
   "cell_type": "code",
   "execution_count": 6,
   "id": "bd383b9e",
   "metadata": {},
   "outputs": [
    {
     "data": {
      "text/plain": [
       "PassengerId      int64\n",
       "Survived         int64\n",
       "Pclass           int64\n",
       "Name            object\n",
       "Sex             object\n",
       "Age            float64\n",
       "SibSp            int64\n",
       "Parch            int64\n",
       "Ticket          object\n",
       "Fare           float64\n",
       "Cabin           object\n",
       "Embarked        object\n",
       "dtype: object"
      ]
     },
     "execution_count": 6,
     "metadata": {},
     "output_type": "execute_result"
    }
   ],
   "source": [
    "### Checking data type we for each columns.\n",
    "data.dtypes"
   ]
  },
  {
   "cell_type": "markdown",
   "id": "08ab725f",
   "metadata": {},
   "source": [
    "##### We have int64, float64 and object in data type in our data set.\n",
    "##### Int64 and float64 as already numeric columns. but object column is string type we have to convert this string type in float."
   ]
  },
  {
   "cell_type": "code",
   "execution_count": 7,
   "id": "a89c973b",
   "metadata": {},
   "outputs": [
    {
     "data": {
      "text/plain": [
       "PassengerId      0\n",
       "Survived         0\n",
       "Pclass           0\n",
       "Name             0\n",
       "Sex              0\n",
       "Age            177\n",
       "SibSp            0\n",
       "Parch            0\n",
       "Ticket           0\n",
       "Fare             0\n",
       "Cabin          687\n",
       "Embarked         2\n",
       "dtype: int64"
      ]
     },
     "execution_count": 7,
     "metadata": {},
     "output_type": "execute_result"
    }
   ],
   "source": [
    "data.isna().sum()"
   ]
  },
  {
   "cell_type": "markdown",
   "id": "6321a1b5",
   "metadata": {},
   "source": [
    "##### In our dataset Age and Cabin columns content 177 and 687 Null values respectively.\n",
    "##### Alos Embarked column have 2 null values."
   ]
  },
  {
   "cell_type": "code",
   "execution_count": 18,
   "id": "c6331c64",
   "metadata": {},
   "outputs": [
    {
     "data": {
      "text/plain": [
       "array([3, 1, 2], dtype=int64)"
      ]
     },
     "execution_count": 18,
     "metadata": {},
     "output_type": "execute_result"
    }
   ],
   "source": [
    "### Checking unqiue class in Pclass.\n",
    "data['Pclass'].unique()"
   ]
  },
  {
   "cell_type": "code",
   "execution_count": 29,
   "id": "32b06edc",
   "metadata": {},
   "outputs": [
    {
     "data": {
      "text/plain": [
       "array(['male', 'female'], dtype=object)"
      ]
     },
     "execution_count": 29,
     "metadata": {},
     "output_type": "execute_result"
    }
   ],
   "source": [
    "### Checking count of Male and female in sex column.\n",
    "data['Sex'].unique()"
   ]
  },
  {
   "cell_type": "code",
   "execution_count": null,
   "id": "c612c6a2",
   "metadata": {},
   "outputs": [],
   "source": []
  },
  {
   "cell_type": "markdown",
   "id": "feea5996",
   "metadata": {},
   "source": [
    "##### We have 3 different classes in Pclass."
   ]
  },
  {
   "cell_type": "code",
   "execution_count": 8,
   "id": "2c226827",
   "metadata": {},
   "outputs": [
    {
     "data": {
      "text/html": [
       "<div>\n",
       "<style scoped>\n",
       "    .dataframe tbody tr th:only-of-type {\n",
       "        vertical-align: middle;\n",
       "    }\n",
       "\n",
       "    .dataframe tbody tr th {\n",
       "        vertical-align: top;\n",
       "    }\n",
       "\n",
       "    .dataframe thead th {\n",
       "        text-align: right;\n",
       "    }\n",
       "</style>\n",
       "<table border=\"1\" class=\"dataframe\">\n",
       "  <thead>\n",
       "    <tr style=\"text-align: right;\">\n",
       "      <th></th>\n",
       "      <th>PassengerId</th>\n",
       "      <th>Survived</th>\n",
       "      <th>Pclass</th>\n",
       "      <th>Age</th>\n",
       "      <th>SibSp</th>\n",
       "      <th>Parch</th>\n",
       "      <th>Fare</th>\n",
       "    </tr>\n",
       "  </thead>\n",
       "  <tbody>\n",
       "    <tr>\n",
       "      <th>count</th>\n",
       "      <td>891.000000</td>\n",
       "      <td>891.000000</td>\n",
       "      <td>891.000000</td>\n",
       "      <td>714.000000</td>\n",
       "      <td>891.000000</td>\n",
       "      <td>891.000000</td>\n",
       "      <td>891.000000</td>\n",
       "    </tr>\n",
       "    <tr>\n",
       "      <th>mean</th>\n",
       "      <td>446.000000</td>\n",
       "      <td>0.383838</td>\n",
       "      <td>2.308642</td>\n",
       "      <td>29.699118</td>\n",
       "      <td>0.523008</td>\n",
       "      <td>0.381594</td>\n",
       "      <td>32.204208</td>\n",
       "    </tr>\n",
       "    <tr>\n",
       "      <th>std</th>\n",
       "      <td>257.353842</td>\n",
       "      <td>0.486592</td>\n",
       "      <td>0.836071</td>\n",
       "      <td>14.526497</td>\n",
       "      <td>1.102743</td>\n",
       "      <td>0.806057</td>\n",
       "      <td>49.693429</td>\n",
       "    </tr>\n",
       "    <tr>\n",
       "      <th>min</th>\n",
       "      <td>1.000000</td>\n",
       "      <td>0.000000</td>\n",
       "      <td>1.000000</td>\n",
       "      <td>0.420000</td>\n",
       "      <td>0.000000</td>\n",
       "      <td>0.000000</td>\n",
       "      <td>0.000000</td>\n",
       "    </tr>\n",
       "    <tr>\n",
       "      <th>25%</th>\n",
       "      <td>223.500000</td>\n",
       "      <td>0.000000</td>\n",
       "      <td>2.000000</td>\n",
       "      <td>20.125000</td>\n",
       "      <td>0.000000</td>\n",
       "      <td>0.000000</td>\n",
       "      <td>7.910400</td>\n",
       "    </tr>\n",
       "    <tr>\n",
       "      <th>50%</th>\n",
       "      <td>446.000000</td>\n",
       "      <td>0.000000</td>\n",
       "      <td>3.000000</td>\n",
       "      <td>28.000000</td>\n",
       "      <td>0.000000</td>\n",
       "      <td>0.000000</td>\n",
       "      <td>14.454200</td>\n",
       "    </tr>\n",
       "    <tr>\n",
       "      <th>75%</th>\n",
       "      <td>668.500000</td>\n",
       "      <td>1.000000</td>\n",
       "      <td>3.000000</td>\n",
       "      <td>38.000000</td>\n",
       "      <td>1.000000</td>\n",
       "      <td>0.000000</td>\n",
       "      <td>31.000000</td>\n",
       "    </tr>\n",
       "    <tr>\n",
       "      <th>max</th>\n",
       "      <td>891.000000</td>\n",
       "      <td>1.000000</td>\n",
       "      <td>3.000000</td>\n",
       "      <td>80.000000</td>\n",
       "      <td>8.000000</td>\n",
       "      <td>6.000000</td>\n",
       "      <td>512.329200</td>\n",
       "    </tr>\n",
       "  </tbody>\n",
       "</table>\n",
       "</div>"
      ],
      "text/plain": [
       "       PassengerId    Survived      Pclass         Age       SibSp  \\\n",
       "count   891.000000  891.000000  891.000000  714.000000  891.000000   \n",
       "mean    446.000000    0.383838    2.308642   29.699118    0.523008   \n",
       "std     257.353842    0.486592    0.836071   14.526497    1.102743   \n",
       "min       1.000000    0.000000    1.000000    0.420000    0.000000   \n",
       "25%     223.500000    0.000000    2.000000   20.125000    0.000000   \n",
       "50%     446.000000    0.000000    3.000000   28.000000    0.000000   \n",
       "75%     668.500000    1.000000    3.000000   38.000000    1.000000   \n",
       "max     891.000000    1.000000    3.000000   80.000000    8.000000   \n",
       "\n",
       "            Parch        Fare  \n",
       "count  891.000000  891.000000  \n",
       "mean     0.381594   32.204208  \n",
       "std      0.806057   49.693429  \n",
       "min      0.000000    0.000000  \n",
       "25%      0.000000    7.910400  \n",
       "50%      0.000000   14.454200  \n",
       "75%      0.000000   31.000000  \n",
       "max      6.000000  512.329200  "
      ]
     },
     "execution_count": 8,
     "metadata": {},
     "output_type": "execute_result"
    }
   ],
   "source": [
    "### Checking data discription.\n",
    "data.describe()"
   ]
  },
  {
   "cell_type": "markdown",
   "id": "de72d2d7",
   "metadata": {},
   "source": [
    "##### Passenger column is Passemnger id.\n",
    "##### Survivied column only have 2 values 0 and 1, this is our target variable.\n",
    "##### In Pclass column we have 3 values 1,2, & 3. this are the classes for passenger.\n",
    "##### In age column we have already check for null values due to which count is less.\n",
    "##### Parach column shows count of perents/childern aboard the ship.\n",
    "##### Mean and std difference is looking fine.\n",
    "##### Quartiles differnce is also ok."
   ]
  },
  {
   "cell_type": "markdown",
   "id": "5b74b2b5",
   "metadata": {},
   "source": [
    "## EDA\n",
    "#### Univeriate Anaylsis."
   ]
  },
  {
   "cell_type": "code",
   "execution_count": 9,
   "id": "da086e99",
   "metadata": {},
   "outputs": [
    {
     "name": "stdout",
     "output_type": "stream",
     "text": [
      "Died (0)  => 549\n",
      "Survived (1) => 342\n"
     ]
    },
    {
     "data": {
      "image/png": "[encoded data removed]",
      "text/plain": [
       "<Figure size 432x288 with 1 Axes>"
      ]
     },
     "metadata": {
      "needs_background": "light"
     },
     "output_type": "display_data"
    }
   ],
   "source": [
    "### Ploting count plot to check whether passenger servived or not.\n",
    "sns.countplot('Survived',data=data)\n",
    "print('Died (0)  =>',data.Survived.value_counts()[0])\n",
    "print('Survived (1) =>',data.Survived.value_counts()[1])"
   ]
  },
  {
   "cell_type": "markdown",
   "id": "55584a13",
   "metadata": {},
   "source": [
    "##### 549 passengers are died and 342 passengers."
   ]
  },
  {
   "cell_type": "code",
   "execution_count": 10,
   "id": "5c66140a",
   "metadata": {},
   "outputs": [
    {
     "data": {
      "text/plain": [
       "<seaborn.axisgrid.FacetGrid at 0x1a10d7961f0>"
      ]
     },
     "execution_count": 10,
     "metadata": {},
     "output_type": "execute_result"
    },
    {
     "data": {
      "image/png": "[encoded data removed]",
      "text/plain": [
       "<Figure size 430.5x360 with 1 Axes>"
      ]
     },
     "metadata": {
      "needs_background": "light"
     },
     "output_type": "display_data"
    }
   ],
   "source": [
    "sns.factorplot('Pclass', data=data, kind=\"count\", hue='Sex')"
   ]
  },
  {
   "cell_type": "markdown",
   "id": "aa09902d",
   "metadata": {},
   "source": [
    "##### Pclass 3 has more number of male as compare to female."
   ]
  },
  {
   "cell_type": "code",
   "execution_count": 11,
   "id": "8977b6f4",
   "metadata": {},
   "outputs": [
    {
     "data": {
      "text/plain": [
       "<seaborn.axisgrid.FacetGrid at 0x1a112ef92b0>"
      ]
     },
     "execution_count": 11,
     "metadata": {},
     "output_type": "execute_result"
    },
    {
     "data": {
      "image/png": "[encoded data removed]",
      "text/plain": [
       "<Figure size 720x360 with 2 Axes>"
      ]
     },
     "metadata": {
      "needs_background": "light"
     },
     "output_type": "display_data"
    }
   ],
   "source": [
    "sns.catplot(x='Sex', col='Survived', kind='count', data=data)"
   ]
  },
  {
   "cell_type": "code",
   "execution_count": null,
   "id": "0c8ddda9",
   "metadata": {},
   "outputs": [],
   "source": []
  },
  {
   "cell_type": "code",
   "execution_count": 12,
   "id": "2421b8b2",
   "metadata": {},
   "outputs": [
    {
     "name": "stdout",
     "output_type": "stream",
     "text": [
      "Number of passengers in each class: \n",
      " Pclass\n",
      "1    216\n",
      "2    184\n",
      "3    491\n",
      "dtype: int64\n",
      "\n",
      "Number of Female and Male in each class: \n",
      " Sex     Pclass\n",
      "female  1          94\n",
      "        2          76\n",
      "        3         144\n",
      "male    1         122\n",
      "        2         108\n",
      "        3         347\n",
      "dtype: int64\n"
     ]
    },
    {
     "data": {
      "image/png": "[encoded data removed]",
      "text/plain": [
       "<Figure size 430.5x360 with 1 Axes>"
      ]
     },
     "metadata": {
      "needs_background": "light"
     },
     "output_type": "display_data"
    }
   ],
   "source": [
    "sns.catplot(x='Pclass',y='Survived',hue='Sex',data=data,kind='point')\n",
    "print('Number of passengers in each class: \\n',data.groupby(['Pclass']).size())\n",
    "print('\\nNumber of Female and Male in each class: \\n',data.groupby(['Sex','Pclass']).size())"
   ]
  },
  {
   "cell_type": "code",
   "execution_count": 15,
   "id": "81216155",
   "metadata": {},
   "outputs": [
    {
     "data": {
      "text/plain": [
       "<AxesSubplot:xlabel='Survived', ylabel='count'>"
      ]
     },
     "execution_count": 15,
     "metadata": {},
     "output_type": "execute_result"
    },
    {
     "data": {
      "image/png": "[encoded data removed]",
      "text/plain": [
       "<Figure size 432x288 with 1 Axes>"
      ]
     },
     "metadata": {
      "needs_background": "light"
     },
     "output_type": "display_data"
    }
   ],
   "source": [
    "sns.countplot(x='Survived',data=data,hue='Pclass')"
   ]
  },
  {
   "cell_type": "code",
   "execution_count": 17,
   "id": "1d999866",
   "metadata": {},
   "outputs": [
    {
     "data": {
      "text/plain": [
       "<AxesSubplot:xlabel='SibSp', ylabel='count'>"
      ]
     },
     "execution_count": 17,
     "metadata": {},
     "output_type": "execute_result"
    },
    {
     "data": {
      "image/png": "[encoded data removed]",
      "text/plain": [
       "<Figure size 432x288 with 1 Axes>"
      ]
     },
     "metadata": {
      "needs_background": "light"
     },
     "output_type": "display_data"
    }
   ],
   "source": [
    "sns.countplot(x='SibSp',data=data)"
   ]
  },
  {
   "cell_type": "code",
   "execution_count": 19,
   "id": "a5ed5b11",
   "metadata": {},
   "outputs": [
    {
     "data": {
      "text/plain": [
       "<seaborn.axisgrid.FacetGrid at 0x1a1174efb80>"
      ]
     },
     "execution_count": 19,
     "metadata": {},
     "output_type": "execute_result"
    },
    {
     "data": {
      "image/png": "[encoded data removed]",
      "text/plain": [
       "<Figure size 906.375x216 with 1 Axes>"
      ]
     },
     "metadata": {
      "needs_background": "light"
     },
     "output_type": "display_data"
    }
   ],
   "source": [
    "# Let's do the same for class by changing the hue argument:\n",
    "\n",
    "fig = sns.FacetGrid(data, hue='Pclass', aspect=4)\n",
    "\n",
    "fig.map(sns.kdeplot, 'Age',shade=True)\n",
    "\n",
    "oldest = data['Age'].max()\n",
    "\n",
    "fig.set(xlim= (0,oldest))\n",
    "\n",
    "fig.add_legend()"
   ]
  },
  {
   "cell_type": "markdown",
   "id": "8d3ec684",
   "metadata": {},
   "source": [
    "#### Biveriate Anaylsis."
   ]
  },
  {
   "cell_type": "code",
   "execution_count": 24,
   "id": "3442ebf4",
   "metadata": {},
   "outputs": [
    {
     "data": {
      "text/plain": [
       "<AxesSubplot:xlabel='Survived', ylabel='Fare'>"
      ]
     },
     "execution_count": 24,
     "metadata": {},
     "output_type": "execute_result"
    },
    {
     "data": {
      "image/png": "[encoded data removed]",
      "text/plain": [
       "<Figure size 360x360 with 1 Axes>"
      ]
     },
     "metadata": {
      "needs_background": "light"
     },
     "output_type": "display_data"
    }
   ],
   "source": [
    "plt.figure(figsize=(5,5))\n",
    "sns.stripplot(x=data['Survived'],y=data['Fare'],hue=data['Pclass'])"
   ]
  },
  {
   "cell_type": "markdown",
   "id": "dee491cc",
   "metadata": {},
   "source": [
    "##### P1 class passengers survive count is more then rest of classes."
   ]
  },
  {
   "cell_type": "code",
   "execution_count": 25,
   "id": "598a7eee",
   "metadata": {},
   "outputs": [
    {
     "data": {
      "text/plain": [
       "<seaborn.axisgrid.FacetGrid at 0x1a11788d130>"
      ]
     },
     "execution_count": 25,
     "metadata": {},
     "output_type": "execute_result"
    },
    {
     "data": {
      "image/png": "[encoded data removed]",
      "text/plain": [
       "<Figure size 430.5x360 with 1 Axes>"
      ]
     },
     "metadata": {
      "needs_background": "light"
     },
     "output_type": "display_data"
    }
   ],
   "source": [
    "sns.lmplot('Parch','Survived',data=data, hue='Sex',palette='plasma')"
   ]
  },
  {
   "cell_type": "markdown",
   "id": "190f1c93",
   "metadata": {},
   "source": [
    "### Multiveriate Analysis & Preprocessing"
   ]
  },
  {
   "cell_type": "code",
   "execution_count": 77,
   "id": "a5785524",
   "metadata": {},
   "outputs": [],
   "source": [
    "### Importing Label encoder to convert Sex column in numeric.\n",
    "from sklearn.preprocessing import LabelEncoder\n",
    "l_encoder = LabelEncoder()\n",
    "df = l_encoder.fit_transform(data['Sex'])\n",
    "data['Sex'] = df"
   ]
  },
  {
   "cell_type": "markdown",
   "id": "a45d7899",
   "metadata": {},
   "source": [
    "##### From above code we have converted Sex string value to numeric where 1 means Male and 0 means Female."
   ]
  },
  {
   "cell_type": "code",
   "execution_count": 41,
   "id": "d7507f9f",
   "metadata": {},
   "outputs": [
    {
     "data": {
      "image/png": "[encoded data removed]",
      "text/plain": [
       "<Figure size 720x720 with 2 Axes>"
      ]
     },
     "metadata": {
      "needs_background": "light"
     },
     "output_type": "display_data"
    }
   ],
   "source": [
    "data_corr = data.corr().abs()\n",
    "plt.figure(figsize=(10,10))\n",
    "sns.heatmap(df_corr,vmin=-1,vmax=1,annot=True,square=True,center=0, linewidths=0.1)\n",
    "plt.tight_layout()"
   ]
  },
  {
   "cell_type": "markdown",
   "id": "85280e41",
   "metadata": {},
   "source": [
    "##### We can see There is very less relationship between Parch and Sibsp and age.\n",
    "##### Plcass and Sex shows some relationship\n",
    "##### Passenager details does not show any relationship we can drop it.\n",
    "##### Fare also shows some relationship\n",
    "#### Droping unwanted columns"
   ]
  },
  {
   "cell_type": "code",
   "execution_count": 66,
   "id": "fb94f187",
   "metadata": {},
   "outputs": [
    {
     "data": {
      "text/plain": [
       "Index(['Survived', 'Pclass', 'Sex', 'Age', 'SibSp', 'Parch', 'Fare', 'Family'], dtype='object')"
      ]
     },
     "execution_count": 66,
     "metadata": {},
     "output_type": "execute_result"
    }
   ],
   "source": [
    "data.columns"
   ]
  },
  {
   "cell_type": "code",
   "execution_count": 68,
   "id": "0a28c0a5",
   "metadata": {},
   "outputs": [],
   "source": [
    "data.drop(columns=['PassengerId','Ticket','Cabin','Embarked','Name'], axis=1, inplace= True)"
   ]
  },
  {
   "cell_type": "markdown",
   "id": "65965d0f",
   "metadata": {},
   "source": [
    "##### We have removed PaseengerID, Ticket, name, Embarked does not show any relationship with our label.\n",
    "##### Dropiong Cabin because it has more number of NaN, so insisted of fillna, Its better to drop them."
   ]
  },
  {
   "cell_type": "code",
   "execution_count": 78,
   "id": "55ebefc5",
   "metadata": {},
   "outputs": [
    {
     "data": {
      "text/html": [
       "<div>\n",
       "<style scoped>\n",
       "    .dataframe tbody tr th:only-of-type {\n",
       "        vertical-align: middle;\n",
       "    }\n",
       "\n",
       "    .dataframe tbody tr th {\n",
       "        vertical-align: top;\n",
       "    }\n",
       "\n",
       "    .dataframe thead th {\n",
       "        text-align: right;\n",
       "    }\n",
       "</style>\n",
       "<table border=\"1\" class=\"dataframe\">\n",
       "  <thead>\n",
       "    <tr style=\"text-align: right;\">\n",
       "      <th></th>\n",
       "      <th>Survived</th>\n",
       "      <th>Pclass</th>\n",
       "      <th>Sex</th>\n",
       "      <th>Age</th>\n",
       "      <th>SibSp</th>\n",
       "      <th>Parch</th>\n",
       "      <th>Fare</th>\n",
       "    </tr>\n",
       "  </thead>\n",
       "  <tbody>\n",
       "    <tr>\n",
       "      <th>0</th>\n",
       "      <td>0</td>\n",
       "      <td>3</td>\n",
       "      <td>1</td>\n",
       "      <td>22.0</td>\n",
       "      <td>1</td>\n",
       "      <td>0</td>\n",
       "      <td>7.2500</td>\n",
       "    </tr>\n",
       "    <tr>\n",
       "      <th>1</th>\n",
       "      <td>1</td>\n",
       "      <td>1</td>\n",
       "      <td>0</td>\n",
       "      <td>38.0</td>\n",
       "      <td>1</td>\n",
       "      <td>0</td>\n",
       "      <td>71.2833</td>\n",
       "    </tr>\n",
       "    <tr>\n",
       "      <th>2</th>\n",
       "      <td>1</td>\n",
       "      <td>3</td>\n",
       "      <td>0</td>\n",
       "      <td>26.0</td>\n",
       "      <td>0</td>\n",
       "      <td>0</td>\n",
       "      <td>7.9250</td>\n",
       "    </tr>\n",
       "    <tr>\n",
       "      <th>3</th>\n",
       "      <td>1</td>\n",
       "      <td>1</td>\n",
       "      <td>0</td>\n",
       "      <td>35.0</td>\n",
       "      <td>1</td>\n",
       "      <td>0</td>\n",
       "      <td>53.1000</td>\n",
       "    </tr>\n",
       "    <tr>\n",
       "      <th>4</th>\n",
       "      <td>0</td>\n",
       "      <td>3</td>\n",
       "      <td>1</td>\n",
       "      <td>35.0</td>\n",
       "      <td>0</td>\n",
       "      <td>0</td>\n",
       "      <td>8.0500</td>\n",
       "    </tr>\n",
       "  </tbody>\n",
       "</table>\n",
       "</div>"
      ],
      "text/plain": [
       "   Survived  Pclass  Sex   Age  SibSp  Parch     Fare\n",
       "0         0       3    1  22.0      1      0   7.2500\n",
       "1         1       1    0  38.0      1      0  71.2833\n",
       "2         1       3    0  26.0      0      0   7.9250\n",
       "3         1       1    0  35.0      1      0  53.1000\n",
       "4         0       3    1  35.0      0      0   8.0500"
      ]
     },
     "execution_count": 78,
     "metadata": {},
     "output_type": "execute_result"
    }
   ],
   "source": [
    "### Let's check our data set now.\n",
    "data.head()"
   ]
  },
  {
   "cell_type": "code",
   "execution_count": 70,
   "id": "c11004ff",
   "metadata": {},
   "outputs": [],
   "source": [
    "### Removing NaN from column Age column\n",
    "data['Age'] = data['Age'].fillna(value=data['Age'].mean())"
   ]
  },
  {
   "cell_type": "code",
   "execution_count": 75,
   "id": "9339ff07",
   "metadata": {},
   "outputs": [
    {
     "data": {
      "text/plain": [
       "Survived    0\n",
       "Pclass      0\n",
       "Sex         0\n",
       "Age         0\n",
       "SibSp       0\n",
       "Parch       0\n",
       "Fare        0\n",
       "dtype: int64"
      ]
     },
     "execution_count": 75,
     "metadata": {},
     "output_type": "execute_result"
    }
   ],
   "source": [
    "data.isnull().sum()"
   ]
  },
  {
   "cell_type": "markdown",
   "id": "b0419bc9",
   "metadata": {},
   "source": [
    "##### Now our our datasets has no null values."
   ]
  },
  {
   "cell_type": "code",
   "execution_count": 81,
   "id": "49e055e4",
   "metadata": {},
   "outputs": [
    {
     "data": {
      "image/png": "[encoded data removed]",
      "text/plain": [
       "<Figure size 1440x1800 with 7 Axes>"
      ]
     },
     "metadata": {
      "needs_background": "light"
     },
     "output_type": "display_data"
    }
   ],
   "source": [
    "### Ploting Box plot for checking outliers.\n",
    "plt.figure(figsize= (20,25))\n",
    "count =1\n",
    "for column in data:\n",
    "    if count <=7:\n",
    "        ax = plt.subplot(2,4,count)\n",
    "        data[column].plot(kind = 'box',color ='r')\n",
    "    count +=1\n",
    "plt.tight_layout()"
   ]
  },
  {
   "cell_type": "markdown",
   "id": "5f11b0f1",
   "metadata": {},
   "source": [
    "#### We have oulters in our dataset Fare has more outliers, Parch also in again we have more outliers."
   ]
  },
  {
   "cell_type": "code",
   "execution_count": 92,
   "id": "76ea2fdc",
   "metadata": {},
   "outputs": [],
   "source": [
    "### Removing outliers from dataset.\n",
    "from scipy.stats import zscore\n",
    "z = np.abs(zscore(data))\n",
    "df = data[(z<3).all(axis = 1)]"
   ]
  },
  {
   "cell_type": "code",
   "execution_count": 93,
   "id": "6bfc0f1c",
   "metadata": {},
   "outputs": [
    {
     "name": "stdout",
     "output_type": "stream",
     "text": [
      "Data size before z_score:  (891, 7)  Data size after z_score:  (820, 7)\n"
     ]
    }
   ],
   "source": [
    "print('Data size before z_score: ',data.shape,' Data size after z_score: ',df.shape)"
   ]
  },
  {
   "cell_type": "code",
   "execution_count": 94,
   "id": "03228999",
   "metadata": {},
   "outputs": [
    {
     "name": "stdout",
     "output_type": "stream",
     "text": [
      "Data loss after applying Z_score:  7.968574635241302\n"
     ]
    }
   ],
   "source": [
    "data_loss = ((891 - 820)/891)*100\n",
    "print('Data loss after applying Z_score: ',data_loss)"
   ]
  },
  {
   "cell_type": "markdown",
   "id": "c9202393",
   "metadata": {},
   "source": [
    "##### can consider this difference."
   ]
  },
  {
   "cell_type": "code",
   "execution_count": 95,
   "id": "a19a924a",
   "metadata": {},
   "outputs": [],
   "source": [
    "### Seperating Features and Label.\n",
    "x = df.drop(['Survived'],axis=1)\n",
    "y = df['Survived']"
   ]
  },
  {
   "cell_type": "markdown",
   "id": "565b6722",
   "metadata": {},
   "source": [
    "## Scaling (Standardization)"
   ]
  },
  {
   "cell_type": "code",
   "execution_count": 98,
   "id": "fa5a960e",
   "metadata": {},
   "outputs": [],
   "source": [
    "#### Now lets scale our data.\n",
    "from sklearn.preprocessing import StandardScaler\n",
    "scale = StandardScaler()\n",
    "x = scale.fit_transform(x)"
   ]
  },
  {
   "cell_type": "markdown",
   "id": "349406bf",
   "metadata": {},
   "source": [
    "##### Scaled our X data so that our model will not Bais to any of the variable."
   ]
  },
  {
   "cell_type": "markdown",
   "id": "991ebffe",
   "metadata": {},
   "source": [
    "## Train - Test Split"
   ]
  },
  {
   "cell_type": "code",
   "execution_count": 135,
   "id": "97c0ec7a",
   "metadata": {},
   "outputs": [],
   "source": [
    " # Now converting data into Train test split.\n",
    "from sklearn.model_selection import train_test_split\n",
    "x_train,x_test,y_train,y_test = train_test_split(x,y,test_size=0.30,random_state=54)"
   ]
  },
  {
   "cell_type": "code",
   "execution_count": 100,
   "id": "c45fda35",
   "metadata": {},
   "outputs": [
    {
     "name": "stdout",
     "output_type": "stream",
     "text": [
      "(615, 6) (615,) (205, 6) (205,)\n"
     ]
    }
   ],
   "source": [
    "print(x_train.shape,y_train.shape,x_test.shape,y_test.shape)"
   ]
  },
  {
   "cell_type": "markdown",
   "id": "635757a1",
   "metadata": {},
   "source": [
    "## Finding best model"
   ]
  },
  {
   "cell_type": "code",
   "execution_count": 102,
   "id": "a8c773d2",
   "metadata": {},
   "outputs": [],
   "source": [
    "## Importing models\n",
    "from sklearn.linear_model import LogisticRegression\n",
    "from sklearn.tree import DecisionTreeClassifier\n",
    "from sklearn.svm import SVC\n",
    "from sklearn.ensemble import RandomForestClassifier\n",
    "from sklearn.neighbors import KNeighborsClassifier\n",
    "from sklearn.model_selection import cross_val_score\n",
    "from sklearn.metrics import classification_report, confusion_matrix"
   ]
  },
  {
   "cell_type": "code",
   "execution_count": 136,
   "id": "247e14f3",
   "metadata": {},
   "outputs": [],
   "source": [
    "#### Logistic Regression\n",
    "lr = LogisticRegression()\n",
    "lr.fit(x_train,y_train)\n",
    "y_lr_pred = lr.predict(x_test)"
   ]
  },
  {
   "cell_type": "code",
   "execution_count": 137,
   "id": "2b2f373e",
   "metadata": {},
   "outputs": [
    {
     "data": {
      "text/plain": [
       "array([[128,  19],\n",
       "       [ 37,  62]], dtype=int64)"
      ]
     },
     "execution_count": 137,
     "metadata": {},
     "output_type": "execute_result"
    }
   ],
   "source": [
    "confusion_matrix(y_test,y_lr_pred)"
   ]
  },
  {
   "cell_type": "code",
   "execution_count": 158,
   "id": "ed7d10d0",
   "metadata": {},
   "outputs": [
    {
     "name": "stdout",
     "output_type": "stream",
     "text": [
      "              precision    recall  f1-score   support\n",
      "\n",
      "           0       0.78      0.87      0.82       147\n",
      "           1       0.77      0.63      0.69        99\n",
      "\n",
      "    accuracy                           0.77       246\n",
      "   macro avg       0.77      0.75      0.75       246\n",
      "weighted avg       0.77      0.77      0.77       246\n",
      "\n"
     ]
    }
   ],
   "source": [
    "accuracy_lr = classification_report(y_test,y_lr_pred)\n",
    "print(accuracy_lr)"
   ]
  },
  {
   "cell_type": "code",
   "execution_count": 141,
   "id": "e0cd7911",
   "metadata": {},
   "outputs": [
    {
     "data": {
      "text/plain": [
       "0.7902439024390244"
      ]
     },
     "execution_count": 141,
     "metadata": {},
     "output_type": "execute_result"
    }
   ],
   "source": [
    "cross_val_score(lr,x,y,cv=5).mean()"
   ]
  },
  {
   "cell_type": "code",
   "execution_count": 148,
   "id": "4a992a8d",
   "metadata": {},
   "outputs": [],
   "source": [
    "#### Decision Tree Classifier\n",
    "dt = DecisionTreeClassifier()\n",
    "dt.fit(x_train,y_train)\n",
    "y_dt_pred = dt.predict(x_test)"
   ]
  },
  {
   "cell_type": "code",
   "execution_count": 149,
   "id": "c96a6849",
   "metadata": {},
   "outputs": [
    {
     "data": {
      "text/plain": [
       "array([[116,  31],\n",
       "       [ 37,  62]], dtype=int64)"
      ]
     },
     "execution_count": 149,
     "metadata": {},
     "output_type": "execute_result"
    }
   ],
   "source": [
    "confusion_matrix(y_test,y_dt_pred)"
   ]
  },
  {
   "cell_type": "code",
   "execution_count": 159,
   "id": "81ee5ad1",
   "metadata": {},
   "outputs": [
    {
     "name": "stdout",
     "output_type": "stream",
     "text": [
      "              precision    recall  f1-score   support\n",
      "\n",
      "           0       0.76      0.79      0.77       147\n",
      "           1       0.67      0.63      0.65        99\n",
      "\n",
      "    accuracy                           0.72       246\n",
      "   macro avg       0.71      0.71      0.71       246\n",
      "weighted avg       0.72      0.72      0.72       246\n",
      "\n"
     ]
    }
   ],
   "source": [
    "accuracy_dt = classification_report(y_test,y_dt_pred)\n",
    "print(accuracy_dt)"
   ]
  },
  {
   "cell_type": "code",
   "execution_count": 151,
   "id": "71d8c9d5",
   "metadata": {},
   "outputs": [
    {
     "data": {
      "text/plain": [
       "0.7707317073170732"
      ]
     },
     "execution_count": 151,
     "metadata": {},
     "output_type": "execute_result"
    }
   ],
   "source": [
    "cross_val_score(dt,x,y,cv=5).mean()"
   ]
  },
  {
   "cell_type": "code",
   "execution_count": 152,
   "id": "93157838",
   "metadata": {},
   "outputs": [],
   "source": [
    "### SVC\n",
    "svc = SVC()\n",
    "svc.fit(x_train,y_train)\n",
    "y_svc_pred = svc.predict(x_test)"
   ]
  },
  {
   "cell_type": "code",
   "execution_count": 160,
   "id": "f61534bc",
   "metadata": {},
   "outputs": [
    {
     "name": "stdout",
     "output_type": "stream",
     "text": [
      "              precision    recall  f1-score   support\n",
      "\n",
      "           0       0.79      0.93      0.85       147\n",
      "           1       0.85      0.64      0.73        99\n",
      "\n",
      "    accuracy                           0.81       246\n",
      "   macro avg       0.82      0.78      0.79       246\n",
      "weighted avg       0.82      0.81      0.80       246\n",
      "\n"
     ]
    }
   ],
   "source": [
    "accuracy_svc = classification_report(y_test,y_svc_pred)\n",
    "print(accuracy_svc)"
   ]
  },
  {
   "cell_type": "code",
   "execution_count": 153,
   "id": "5d63415b",
   "metadata": {},
   "outputs": [
    {
     "data": {
      "text/plain": [
       "array([[136,  11],\n",
       "       [ 36,  63]], dtype=int64)"
      ]
     },
     "execution_count": 153,
     "metadata": {},
     "output_type": "execute_result"
    }
   ],
   "source": [
    "confusion_matrix(y_test,y_svc_pred)"
   ]
  },
  {
   "cell_type": "code",
   "execution_count": 154,
   "id": "4c1523a9",
   "metadata": {},
   "outputs": [],
   "source": [
    "### Random Forest Classifier\n",
    "rf = RandomForestClassifier()\n",
    "rf.fit(x_train,y_train)\n",
    "y_rf_pred = rf.predict(x_test)"
   ]
  },
  {
   "cell_type": "code",
   "execution_count": 161,
   "id": "11217a3e",
   "metadata": {},
   "outputs": [
    {
     "name": "stdout",
     "output_type": "stream",
     "text": [
      "              precision    recall  f1-score   support\n",
      "\n",
      "           0       0.80      0.88      0.84       147\n",
      "           1       0.80      0.68      0.73        99\n",
      "\n",
      "    accuracy                           0.80       246\n",
      "   macro avg       0.80      0.78      0.79       246\n",
      "weighted avg       0.80      0.80      0.80       246\n",
      "\n"
     ]
    }
   ],
   "source": [
    "accuracy_rf = classification_report(y_test,y_rf_pred)\n",
    "print(accuracy_rf)"
   ]
  },
  {
   "cell_type": "code",
   "execution_count": 155,
   "id": "495b25af",
   "metadata": {},
   "outputs": [
    {
     "data": {
      "text/plain": [
       "array([[130,  17],\n",
       "       [ 32,  67]], dtype=int64)"
      ]
     },
     "execution_count": 155,
     "metadata": {},
     "output_type": "execute_result"
    }
   ],
   "source": [
    "confusion_matrix(y_test,y_rf_pred)"
   ]
  },
  {
   "cell_type": "code",
   "execution_count": 156,
   "id": "8febadf2",
   "metadata": {},
   "outputs": [],
   "source": [
    "### K-Neighbors Classifier\n",
    "kn = KNeighborsClassifier()\n",
    "kn.fit(x_train,y_train)\n",
    "y_knn_pred = kn.predict(x_test)"
   ]
  },
  {
   "cell_type": "code",
   "execution_count": 162,
   "id": "0ba6a8ef",
   "metadata": {},
   "outputs": [
    {
     "name": "stdout",
     "output_type": "stream",
     "text": [
      "              precision    recall  f1-score   support\n",
      "\n",
      "           0       0.79      0.88      0.83       147\n",
      "           1       0.78      0.66      0.71        99\n",
      "\n",
      "    accuracy                           0.79       246\n",
      "   macro avg       0.79      0.77      0.77       246\n",
      "weighted avg       0.79      0.79      0.78       246\n",
      "\n"
     ]
    }
   ],
   "source": [
    "accuracy_kn = classification_report(y_test,y_knn_pred)\n",
    "print(accuracy_kn)"
   ]
  },
  {
   "cell_type": "code",
   "execution_count": 157,
   "id": "03a9d345",
   "metadata": {},
   "outputs": [
    {
     "data": {
      "text/plain": [
       "array([[129,  18],\n",
       "       [ 34,  65]], dtype=int64)"
      ]
     },
     "execution_count": 157,
     "metadata": {},
     "output_type": "execute_result"
    }
   ],
   "source": [
    "confusion_matrix(y_test,y_knn_pred)"
   ]
  },
  {
   "cell_type": "code",
   "execution_count": 163,
   "id": "2fd4285f",
   "metadata": {},
   "outputs": [
    {
     "name": "stdout",
     "output_type": "stream",
     "text": [
      "LogisticRegression acc =                precision    recall  f1-score   support\n",
      "\n",
      "           0       0.78      0.87      0.82       147\n",
      "           1       0.77      0.63      0.69        99\n",
      "\n",
      "    accuracy                           0.77       246\n",
      "   macro avg       0.77      0.75      0.75       246\n",
      "weighted avg       0.77      0.77      0.77       246\n",
      " \n",
      " CV score =  0.7902439024390244 \n",
      "\n",
      "DecisionTreeClassifier acc =                precision    recall  f1-score   support\n",
      "\n",
      "           0       0.76      0.79      0.77       147\n",
      "           1       0.67      0.63      0.65        99\n",
      "\n",
      "    accuracy                           0.72       246\n",
      "   macro avg       0.71      0.71      0.71       246\n",
      "weighted avg       0.72      0.72      0.72       246\n",
      " \n",
      " CV score =  0.7646341463414634 \n",
      "\n",
      "SVC  acc =                precision    recall  f1-score   support\n",
      "\n",
      "           0       0.79      0.93      0.85       147\n",
      "           1       0.85      0.64      0.73        99\n",
      "\n",
      "    accuracy                           0.81       246\n",
      "   macro avg       0.82      0.78      0.79       246\n",
      "weighted avg       0.82      0.81      0.80       246\n",
      " \n",
      " CV score =  0.8207317073170731 \n",
      "\n",
      "RandomForestClassifier acc =                precision    recall  f1-score   support\n",
      "\n",
      "           0       0.80      0.88      0.84       147\n",
      "           1       0.80      0.68      0.73        99\n",
      "\n",
      "    accuracy                           0.80       246\n",
      "   macro avg       0.80      0.78      0.79       246\n",
      "weighted avg       0.80      0.80      0.80       246\n",
      " \n",
      " CV score =  0.7975609756097561 \n",
      "\n",
      "KNeighborsClassifier acc =                precision    recall  f1-score   support\n",
      "\n",
      "           0       0.79      0.88      0.83       147\n",
      "           1       0.78      0.66      0.71        99\n",
      "\n",
      "    accuracy                           0.79       246\n",
      "   macro avg       0.79      0.77      0.77       246\n",
      "weighted avg       0.79      0.79      0.78       246\n",
      " \n",
      " CV score =  0.8024390243902438 \n",
      "\n"
     ]
    }
   ],
   "source": [
    "print('LogisticRegression acc = ',accuracy_lr,'\\n CV score = ',cross_val_score(lr,x,y,cv=5).mean(),'\\n')\n",
    "print('DecisionTreeClassifier acc = ',accuracy_dt,'\\n CV score = ',cross_val_score(dt,x,y,cv=5).mean(),'\\n')\n",
    "print('SVC  acc = ',accuracy_svc,'\\n CV score = ',cross_val_score(svc,x,y,cv=5).mean(),'\\n')\n",
    "print('RandomForestClassifier acc = ',accuracy_rf,'\\n CV score = ',cross_val_score(rf,x,y,cv=5).mean(),'\\n')\n",
    "print('KNeighborsClassifier acc = ',accuracy_kn,'\\n CV score = ',cross_val_score(kn,x,y,cv=5).mean(),'\\n')"
   ]
  },
  {
   "cell_type": "markdown",
   "id": "cad491cc",
   "metadata": {},
   "source": [
    "#### Out of 5 model SVC is our best model, Becuase its given as acc 81% and Cross validatiion score 82%. therefore its our best model."
   ]
  },
  {
   "cell_type": "markdown",
   "id": "8a61f849",
   "metadata": {},
   "source": [
    "### Let's PLOT roc_auc curve for our model"
   ]
  },
  {
   "cell_type": "code",
   "execution_count": 164,
   "id": "ac547bf7",
   "metadata": {},
   "outputs": [
    {
     "data": {
      "image/png": "[encoded data removed]",
      "text/plain": [
       "<Figure size 432x288 with 1 Axes>"
      ]
     },
     "metadata": {
      "needs_background": "light"
     },
     "output_type": "display_data"
    }
   ],
   "source": [
    "from sklearn.metrics import roc_auc_score, roc_curve, plot_roc_curve\n",
    "disp = plot_roc_curve(lr,x_test,y_test)\n",
    "plot_roc_curve(dt,x_test,y_test,ax=disp.ax_) # Here ax_ means axes with confusion matrix\n",
    "plot_roc_curve(svc,x_test,y_test,ax=disp.ax_)\n",
    "plot_roc_curve(rf,x_test,y_test,ax=disp.ax_)\n",
    "plot_roc_curve(kn,x_test,y_test,ax=disp.ax_)\n",
    "plt.legend(prop = {'size':11},loc = 'lower right')\n",
    "plt.show()"
   ]
  },
  {
   "cell_type": "markdown",
   "id": "f397de21",
   "metadata": {},
   "source": [
    "## Hyper parameter tuning using GridSearchCV```"
   ]
  },
  {
   "cell_type": "code",
   "execution_count": 165,
   "id": "76868f84",
   "metadata": {},
   "outputs": [],
   "source": [
    "from sklearn.model_selection import GridSearchCV\n"
   ]
  },
  {
   "cell_type": "code",
   "execution_count": 172,
   "id": "a9352883",
   "metadata": {},
   "outputs": [],
   "source": [
    "params = {'C':np.arange(0.1,5,0.50),\n",
    "          'degree':np.arange(1,10,2),\n",
    "          'gamma':['scale','auto'],\n",
    "          'coef0':np.arange(0.01,1.0,0.10),\n",
    "          'decision_function_shape':['ovo','ovr'],\n",
    "          'random_state':np.arange(40,100,5)}"
   ]
  },
  {
   "cell_type": "code",
   "execution_count": 173,
   "id": "31b632dc",
   "metadata": {},
   "outputs": [
    {
     "data": {
      "text/plain": [
       "{'C': array([0.1, 0.6, 1.1, 1.6, 2.1, 2.6, 3.1, 3.6, 4.1, 4.6]),\n",
       " 'degree': array([1, 3, 5, 7, 9]),\n",
       " 'gamma': ['scale', 'auto'],\n",
       " 'coef0': array([0.01, 0.11, 0.21, 0.31, 0.41, 0.51, 0.61, 0.71, 0.81, 0.91]),\n",
       " 'decision_function_shape': ['ovo', 'ovr'],\n",
       " 'random_state': array([40, 45, 50, 55, 60, 65, 70, 75, 80, 85, 90, 95])}"
      ]
     },
     "execution_count": 173,
     "metadata": {},
     "output_type": "execute_result"
    }
   ],
   "source": [
    "params"
   ]
  },
  {
   "cell_type": "code",
   "execution_count": 174,
   "id": "61dabe60",
   "metadata": {},
   "outputs": [
    {
     "data": {
      "text/plain": [
       "GridSearchCV(cv=5, estimator=SVC(), n_jobs=-1,\n",
       "             param_grid={'C': array([0.1, 0.6, 1.1, 1.6, 2.1, 2.6, 3.1, 3.6, 4.1, 4.6]),\n",
       "                         'coef0': array([0.01, 0.11, 0.21, 0.31, 0.41, 0.51, 0.61, 0.71, 0.81, 0.91]),\n",
       "                         'decision_function_shape': ['ovo', 'ovr'],\n",
       "                         'degree': array([1, 3, 5, 7, 9]),\n",
       "                         'gamma': ['scale', 'auto'],\n",
       "                         'random_state': array([40, 45, 50, 55, 60, 65, 70, 75, 80, 85, 90, 95])})"
      ]
     },
     "execution_count": 174,
     "metadata": {},
     "output_type": "execute_result"
    }
   ],
   "source": [
    "gridsearch = GridSearchCV(estimator=svc,param_grid=params,cv=5,n_jobs=-1)\n",
    "gridsearch.fit(x_train,y_train)"
   ]
  },
  {
   "cell_type": "code",
   "execution_count": 175,
   "id": "d6743706",
   "metadata": {},
   "outputs": [
    {
     "data": {
      "text/plain": [
       "{'C': 2.1,\n",
       " 'coef0': 0.01,\n",
       " 'decision_function_shape': 'ovo',\n",
       " 'degree': 1,\n",
       " 'gamma': 'scale',\n",
       " 'random_state': 40}"
      ]
     },
     "execution_count": 175,
     "metadata": {},
     "output_type": "execute_result"
    }
   ],
   "source": [
    "gridsearch.best_params_"
   ]
  },
  {
   "cell_type": "code",
   "execution_count": 177,
   "id": "ae0a4bc9",
   "metadata": {},
   "outputs": [],
   "source": [
    "svc = gridsearch.best_estimator_"
   ]
  },
  {
   "cell_type": "code",
   "execution_count": 178,
   "id": "5a50d8f1",
   "metadata": {},
   "outputs": [
    {
     "data": {
      "text/plain": [
       "SVC(C=2.1, coef0=0.01, decision_function_shape='ovo', degree=1, random_state=40)"
      ]
     },
     "execution_count": 178,
     "metadata": {},
     "output_type": "execute_result"
    }
   ],
   "source": [
    "svc.fit(x_train,y_train)"
   ]
  },
  {
   "cell_type": "code",
   "execution_count": 179,
   "id": "c8b76ec7",
   "metadata": {},
   "outputs": [],
   "source": [
    "y_pred = svc.predict(x_test)"
   ]
  },
  {
   "cell_type": "code",
   "execution_count": 180,
   "id": "ef63670a",
   "metadata": {},
   "outputs": [
    {
     "data": {
      "text/plain": [
       "array([[137,  10],\n",
       "       [ 39,  60]], dtype=int64)"
      ]
     },
     "execution_count": 180,
     "metadata": {},
     "output_type": "execute_result"
    }
   ],
   "source": [
    "confusion_matrix(y_test,y_pred)"
   ]
  },
  {
   "cell_type": "code",
   "execution_count": 184,
   "id": "35a5a228",
   "metadata": {},
   "outputs": [
    {
     "name": "stdout",
     "output_type": "stream",
     "text": [
      "              precision    recall  f1-score   support\n",
      "\n",
      "           0       0.78      0.93      0.85       147\n",
      "           1       0.86      0.61      0.71        99\n",
      "\n",
      "    accuracy                           0.80       246\n",
      "   macro avg       0.82      0.77      0.78       246\n",
      "weighted avg       0.81      0.80      0.79       246\n",
      "\n"
     ]
    }
   ],
   "source": [
    "print(classification_report(y_test,y_pred))"
   ]
  },
  {
   "cell_type": "code",
   "execution_count": 185,
   "id": "7f123dee",
   "metadata": {},
   "outputs": [
    {
     "data": {
      "text/plain": [
       "0.8158536585365853"
      ]
     },
     "execution_count": 185,
     "metadata": {},
     "output_type": "execute_result"
    }
   ],
   "source": [
    "cross_val_score(svc,x,y,cv=5).mean()"
   ]
  },
  {
   "cell_type": "markdown",
   "id": "878997b4",
   "metadata": {},
   "source": [
    "## Saving our model"
   ]
  },
  {
   "cell_type": "code",
   "execution_count": 187,
   "id": "3952060f",
   "metadata": {},
   "outputs": [],
   "source": [
    "import pickle\n",
    "Survival = 'Titanic survival.pickle'\n",
    "pickle.dump(svc,open(Survival,'wb'))"
   ]
  },
  {
   "cell_type": "code",
   "execution_count": 188,
   "id": "7b93fc3c",
   "metadata": {},
   "outputs": [],
   "source": [
    "loaded_model = pickle.load(open(Survival,'rb'))"
   ]
  },
  {
   "cell_type": "code",
   "execution_count": 189,
   "id": "c40dd8b6",
   "metadata": {},
   "outputs": [],
   "source": [
    "test = loaded_model.predict(x_test)"
   ]
  },
  {
   "cell_type": "code",
   "execution_count": 190,
   "id": "fdb79582",
   "metadata": {},
   "outputs": [
    {
     "data": {
      "text/plain": [
       "array([[137,  10],\n",
       "       [ 39,  60]], dtype=int64)"
      ]
     },
     "execution_count": 190,
     "metadata": {},
     "output_type": "execute_result"
    }
   ],
   "source": [
    "confusion_matrix(y_test,test)"
   ]
  },
  {
   "cell_type": "code",
   "execution_count": null,
   "id": "bb1ba3b0",
   "metadata": {},
   "outputs": [],
   "source": []
  }
 ],
 "metadata": {
  "kernelspec": {
   "display_name": "Python 3",
   "language": "python",
   "name": "python3"
  },
  "language_info": {
   "codemirror_mode": {
    "name": "ipython",
    "version": 3
   },
   "file_extension": ".py",
   "mimetype": "text/x-python",
   "name": "python",
   "nbconvert_exporter": "python",
   "pygments_lexer": "ipython3",
   "version": "3.8.8"
  }
 },
 "nbformat": 4,
 "nbformat_minor": 5
}
